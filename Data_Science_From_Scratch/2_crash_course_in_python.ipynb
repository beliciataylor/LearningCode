{
 "metadata": {
  "language_info": {
   "codemirror_mode": {
    "name": "ipython",
    "version": 3
   },
   "file_extension": ".py",
   "mimetype": "text/x-python",
   "name": "python",
   "nbconvert_exporter": "python",
   "pygments_lexer": "ipython3",
   "version": "3.7.4-final"
  },
  "orig_nbformat": 2,
  "kernelspec": {
   "name": "python3",
   "display_name": "Python 3",
   "language": "python"
  }
 },
 "nbformat": 4,
 "nbformat_minor": 2,
 "cells": [
  {
   "source": [
    "# Chapter 2: A Crash Course in Python\n",
    "\n",
    "1. The Zen of Python\n",
    "2. Getting Python\n",
    "3. Virtual Environment\n",
    "4. Whitespace Formatting\n",
    "5. Modules\n",
    "6. Functions\n",
    "7. Strings\n",
    "8. __Exceptions__ *\n",
    "9. __Lists__ *\n",
    "10. __Tuples__ *\n",
    "11. __Dictionaries__ *\n",
    "12. __defaultdict__ *\n",
    "13. __Counters__ *\n",
    "14. Sets\n",
    "15. Control Flow\n",
    "16. Truthiness\n",
    "17. __Sorting__ *\n",
    "18. __List Comprehensions__ *\n",
    "19. __Automated Testing and assert__ *\n",
    "20. __Object-Oriented Programming__ *\n",
    "21. __Iterables and Generators__ *\n",
    "22. Randomness\n",
    "23. Regular Expressions\n",
    "24. __zip and Argument Unpacking__ *\n",
    "25. __args and kwargs__ *\n",
    "26. __Type Annotations__ *\n",
    "27. __How to Write Type Annotations__ *\n"
   ],
   "cell_type": "markdown",
   "metadata": {}
  },
  {
   "source": [
    "## Exceptions\n",
    "- when something goes wrong, python raises an exception\n",
    "- unhandled, exceptions will cause program to crash\n",
    "- handle them using try and except"
   ],
   "cell_type": "markdown",
   "metadata": {}
  },
  {
   "cell_type": "code",
   "execution_count": 2,
   "metadata": {},
   "outputs": [
    {
     "output_type": "error",
     "ename": "ZeroDivisionError",
     "evalue": "division by zero",
     "traceback": [
      "\u001b[0;31m---------------------------------------------------------------------------\u001b[0m",
      "\u001b[0;31mZeroDivisionError\u001b[0m                         Traceback (most recent call last)",
      "\u001b[0;32m<ipython-input-2-a827c3371696>\u001b[0m in \u001b[0;36m<module>\u001b[0;34m\u001b[0m\n\u001b[1;32m      1\u001b[0m \u001b[0;31m# without try and except\u001b[0m\u001b[0;34m\u001b[0m\u001b[0;34m\u001b[0m\u001b[0;34m\u001b[0m\u001b[0m\n\u001b[0;32m----> 2\u001b[0;31m \u001b[0mprint\u001b[0m\u001b[0;34m(\u001b[0m\u001b[0;36m0\u001b[0m\u001b[0;34m/\u001b[0m\u001b[0;36m0\u001b[0m\u001b[0;34m)\u001b[0m\u001b[0;34m\u001b[0m\u001b[0;34m\u001b[0m\u001b[0m\n\u001b[0m",
      "\u001b[0;31mZeroDivisionError\u001b[0m: division by zero"
     ]
    }
   ],
   "source": [
    "# without try and except\n",
    "print(0/0)"
   ]
  },
  {
   "cell_type": "code",
   "execution_count": 3,
   "metadata": {},
   "outputs": [
    {
     "output_type": "stream",
     "name": "stdout",
     "text": [
      "cannot divide by zero\n"
     ]
    }
   ],
   "source": [
    "# with try and except\n",
    "try:\n",
    "    print(0/0)\n",
    "except ZeroDivisionError:\n",
    "    print(\"cannot divide by zero\")"
   ]
  },
  {
   "source": [
    "## Lists\n",
    "- slice can take a third argument that indicates its stride"
   ],
   "cell_type": "markdown",
   "metadata": {}
  },
  {
   "cell_type": "code",
   "execution_count": 4,
   "metadata": {},
   "outputs": [
    {
     "output_type": "execute_result",
     "data": {
      "text/plain": [
       "[0, 3, 6, 9]"
      ]
     },
     "metadata": {},
     "execution_count": 4
    }
   ],
   "source": [
    "x = [0,1,2,3,4,5,6,7,8,9]\n",
    "\n",
    "every_third = x[::3]\n",
    "every_third"
   ]
  },
  {
   "cell_type": "code",
   "execution_count": 5,
   "metadata": {},
   "outputs": [
    {
     "output_type": "execute_result",
     "data": {
      "text/plain": [
       "[5, 4, 3]"
      ]
     },
     "metadata": {},
     "execution_count": 5
    }
   ],
   "source": [
    "five_to_three = x[5:2:-1]\n",
    "five_to_three"
   ]
  },
  {
   "source": [
    "- if you want to modify a list in place, use extend to add items from another collection\n",
    "- more frequently, we'll append to lists one item at a time"
   ],
   "cell_type": "markdown",
   "metadata": {}
  },
  {
   "cell_type": "code",
   "execution_count": 6,
   "metadata": {},
   "outputs": [
    {
     "output_type": "execute_result",
     "data": {
      "text/plain": [
       "[1, 2, 3, 4, 5, 6]"
      ]
     },
     "metadata": {},
     "execution_count": 6
    }
   ],
   "source": [
    "x = [1,2,3]\n",
    "x.extend([4,5,6])\n",
    "x"
   ]
  },
  {
   "cell_type": "code",
   "execution_count": 8,
   "metadata": {},
   "outputs": [
    {
     "output_type": "execute_result",
     "data": {
      "text/plain": [
       "0"
      ]
     },
     "metadata": {},
     "execution_count": 8
    }
   ],
   "source": [
    "x = [1,2,3]\n",
    "x.append(0)\n",
    "x[-1]"
   ]
  },
  {
   "cell_type": "code",
   "execution_count": 9,
   "metadata": {},
   "outputs": [
    {
     "output_type": "execute_result",
     "data": {
      "text/plain": [
       "4"
      ]
     },
     "metadata": {},
     "execution_count": 9
    }
   ],
   "source": [
    "len(x)"
   ]
  },
  {
   "source": [
    "- can be convenient to unpack lists when you know how many elements they contain\n",
    "- can use an underscore for a value you're going to throw away"
   ],
   "cell_type": "markdown",
   "metadata": {}
  },
  {
   "cell_type": "code",
   "execution_count": 10,
   "metadata": {},
   "outputs": [
    {
     "output_type": "stream",
     "name": "stdout",
     "text": [
      "1 2\n"
     ]
    }
   ],
   "source": [
    "x, y = [1, 2]\n",
    "print(x, y)"
   ]
  },
  {
   "cell_type": "code",
   "execution_count": 11,
   "metadata": {},
   "outputs": [
    {
     "output_type": "stream",
     "name": "stdout",
     "text": [
      "1 4\n"
     ]
    }
   ],
   "source": [
    "_ , y = [3, 4]\n",
    "print(x, y)"
   ]
  },
  {
   "source": [
    "## Tuples\n",
    "- tuples are lists' immutable cousins\n",
    "- basically everything you can do to a list that doesn't involve modifying it,\n",
    "  you can do to a tuple"
   ],
   "cell_type": "markdown",
   "metadata": {}
  },
  {
   "cell_type": "code",
   "execution_count": 12,
   "metadata": {},
   "outputs": [
    {
     "output_type": "stream",
     "name": "stdout",
     "text": [
      "[1, 3]\n"
     ]
    }
   ],
   "source": [
    "my_list = [1,2]\n",
    "my_list[1] = 3\n",
    "print(my_list)"
   ]
  },
  {
   "cell_type": "code",
   "execution_count": 13,
   "metadata": {},
   "outputs": [
    {
     "output_type": "stream",
     "name": "stdout",
     "text": [
      "cannot modify a tuple\n"
     ]
    }
   ],
   "source": [
    "my_tuple = (1, 2)\n",
    "my_other_tuple = 3, 4\n",
    "try:\n",
    "    my_tuple[1] = 3\n",
    "except TypeError:\n",
    "    print(\"cannot modify a tuple\")"
   ]
  },
  {
   "source": [
    "- tuples are convenient ways of returning multiple values from functions"
   ],
   "cell_type": "markdown",
   "metadata": {}
  },
  {
   "cell_type": "code",
   "execution_count": 14,
   "metadata": {},
   "outputs": [
    {
     "output_type": "stream",
     "name": "stdout",
     "text": [
      "(5, 6)\n"
     ]
    }
   ],
   "source": [
    "def sum_and_product(x, y):\n",
    "    return (x+y), (x*y)\n",
    "\n",
    "sp = sum_and_product(2,3)\n",
    "print(sp)"
   ]
  },
  {
   "cell_type": "code",
   "execution_count": 15,
   "metadata": {},
   "outputs": [
    {
     "output_type": "stream",
     "name": "stdout",
     "text": [
      "15 50\n"
     ]
    }
   ],
   "source": [
    "s, p = sum_and_product(5,10)\n",
    "print(s, p)"
   ]
  },
  {
   "source": [
    "- tuples (and lists) can also be used for multiple assignments"
   ],
   "cell_type": "markdown",
   "metadata": {}
  },
  {
   "cell_type": "code",
   "execution_count": 16,
   "metadata": {},
   "outputs": [],
   "source": [
    "x, y = 1, 2\n",
    "x, y = y, x # pythonic way of swapping variables"
   ]
  },
  {
   "source": [
    "## Dictionaries\n",
    "* allow you to look up a value of a key"
   ],
   "cell_type": "markdown",
   "metadata": {}
  },
  {
   "cell_type": "code",
   "execution_count": 17,
   "metadata": {},
   "outputs": [],
   "source": [
    "empty_dict = {} # pythonic\n",
    "empty_dict2 = dict() # less pythonic\n",
    "grades = {\"Joel\":80, \"Tim\":95} # dictionary literal"
   ]
  },
  {
   "cell_type": "code",
   "execution_count": 18,
   "metadata": {},
   "outputs": [
    {
     "output_type": "execute_result",
     "data": {
      "text/plain": [
       "80"
      ]
     },
     "metadata": {},
     "execution_count": 18
    }
   ],
   "source": [
    "# you can look up the value of a key using square brackets\n",
    "grades[\"Joel\"] # equals 80"
   ]
  },
  {
   "cell_type": "code",
   "execution_count": 19,
   "metadata": {},
   "outputs": [
    {
     "output_type": "stream",
     "name": "stdout",
     "text": [
      "no grades for Katie!\n"
     ]
    }
   ],
   "source": [
    "# you'll get a KeyError if you ask for a key that's not in the dictionary\n",
    "try:\n",
    "    grades['Katie']\n",
    "except KeyError:\n",
    "    print(\"no grades for Katie!\")"
   ]
  },
  {
   "cell_type": "code",
   "execution_count": 20,
   "metadata": {},
   "outputs": [
    {
     "output_type": "execute_result",
     "data": {
      "text/plain": [
       "False"
      ]
     },
     "metadata": {},
     "execution_count": 20
    }
   ],
   "source": [
    "# check for existence of a key\n",
    "\"Joel\" in grades\n",
    "\"Katie\" in grades"
   ]
  },
  {
   "source": [
    "- dictionaries have a get method that returns a default value instead of\n",
    "- raising an exception) when you look up a key that's not in the dictionary"
   ],
   "cell_type": "markdown",
   "metadata": {}
  },
  {
   "cell_type": "code",
   "execution_count": 22,
   "metadata": {},
   "outputs": [
    {
     "output_type": "stream",
     "name": "stdout",
     "text": [
      "80\n0\nNone\n"
     ]
    }
   ],
   "source": [
    "print(grades.get(\"Joel\", 0))\n",
    "print(grades.get(\"Katie\", 0))\n",
    "print(grades.get(\"No One\")) # default is None"
   ]
  },
  {
   "cell_type": "code",
   "execution_count": 23,
   "metadata": {},
   "outputs": [
    {
     "output_type": "execute_result",
     "data": {
      "text/plain": [
       "3"
      ]
     },
     "metadata": {},
     "execution_count": 23
    }
   ],
   "source": [
    "# you can assign key/value pairs using the same square brackets\n",
    "grades['Tim'] = 99\n",
    "grades['Katie'] = 100\n",
    "len(grades)"
   ]
  },
  {
   "cell_type": "code",
   "execution_count": 24,
   "metadata": {},
   "outputs": [
    {
     "output_type": "execute_result",
     "data": {
      "text/plain": [
       "dict_items([('Joel', 80), ('Tim', 99), ('Katie', 100)])"
      ]
     },
     "metadata": {},
     "execution_count": 24
    }
   ],
   "source": [
    "# we can also look at all of the keys\n",
    "grades.keys() # iterable for the keys\n",
    "grades.values() # iterable for the values\n",
    "grades.items() # iterable for the (key, value) tuples"
   ]
  },
  {
   "cell_type": "code",
   "execution_count": 26,
   "metadata": {},
   "outputs": [
    {
     "output_type": "stream",
     "name": "stdout",
     "text": [
      "True\nTrue\nTrue\n"
     ]
    }
   ],
   "source": [
    "print(\"Tim\" in grades.keys()) # true but not pythonic\n",
    "print(\"Tim\" in grades) # pythonic way of checking for keys\n",
    "print(80 in grades.values()) # true (slow but only way to check)"
   ]
  },
  {
   "source": [
    "- dictionary keys must be \"hashable\"\n",
    "- you cannot use lists as keys\n",
    "- if you need a multipart keym you should probably use a tuple OR figure out how to turn the key into a string"
   ],
   "cell_type": "markdown",
   "metadata": {}
  },
  {
   "source": [
    "## defaultdict\n",
    "\n",
    "* scenario: you want to count the words in a document\n",
    "* approach 1: create a dictionary in which the keys are words and values are counts\n",
    "    - as you check each word, you can (1) increment its counts if it's already in the dictionary OR (2) add it to the dictionary if its not there"
   ],
   "cell_type": "markdown",
   "metadata": {}
  },
  {
   "cell_type": "code",
   "execution_count": 2,
   "metadata": {},
   "outputs": [
    {
     "output_type": "execute_result",
     "data": {
      "text/plain": [
       "{'I': 1, 'love': 1, 'machine': 1, 'learning': 1}"
      ]
     },
     "metadata": {},
     "execution_count": 2
    }
   ],
   "source": [
    "# example document\n",
    "document = [\"I\", \"love\", \"machine\", \"learning\"]\n",
    "\n",
    "# approach 1\n",
    "word_counts = {}\n",
    "\n",
    "for word in document:\n",
    "    if word in word_counts:\n",
    "        word_counts[word] += 1\n",
    "    else:\n",
    "        word_counts[word] = 1\n",
    "\n",
    "word_counts"
   ]
  },
  {
   "source": [
    "* approach 2: you can just handle the exception from trying to look up a missing key"
   ],
   "cell_type": "markdown",
   "metadata": {}
  },
  {
   "cell_type": "code",
   "execution_count": 3,
   "metadata": {},
   "outputs": [
    {
     "output_type": "execute_result",
     "data": {
      "text/plain": [
       "{'I': 1, 'love': 1, 'machine': 1, 'learning': 1}"
      ]
     },
     "metadata": {},
     "execution_count": 3
    }
   ],
   "source": [
    "# approach 2\n",
    "word_counts = {}\n",
    "\n",
    "for word in document:\n",
    "    try:\n",
    "        word_counts[word] += 1\n",
    "    except KeyError:\n",
    "        word_counts[word] = 1\n",
    "\n",
    "word_counts"
   ]
  },
  {
   "source": [
    "* approach 3: use `get` which behaves 'gracefully' for missing keys"
   ],
   "cell_type": "markdown",
   "metadata": {}
  },
  {
   "cell_type": "code",
   "execution_count": 4,
   "metadata": {},
   "outputs": [
    {
     "output_type": "execute_result",
     "data": {
      "text/plain": [
       "{'I': 1, 'love': 1, 'machine': 1, 'learning': 1}"
      ]
     },
     "metadata": {},
     "execution_count": 4
    }
   ],
   "source": [
    "# approach 3\n",
    "word_counts = {}\n",
    "\n",
    "for word in document:\n",
    "    previous_count = word_counts.get(word, 0)\n",
    "    word_counts[word] = previous_count + 1\n",
    "\n",
    "word_counts"
   ]
  },
  {
   "source": [
    "* still, these approaches are not the best\n",
    "* solution: `defaultdict`\n",
    "    - `defaultdict` is similar to a regular dictionary except when you try to look up a key it doesn't contain, it will add a value for it using a 'zero-argument funcion' you provided when you created `defaultdict`\n",
    "\n",
    "_from [StackOverflow](https://stackoverflow.com/questions/5900578/how-does-collections-defaultdict-work)_\n",
    "* usually, a python dictionary throws a `KeyError` if you try to get an item with a key that's not in the dictionary\n",
    "* with `defaultdict`, if the item does not exist, `defaultdict` will simply create any item that you try to access\n",
    "* to create the \"default\" item, it calls the function object that you pass to the constructor "
   ],
   "cell_type": "markdown",
   "metadata": {}
  },
  {
   "cell_type": "code",
   "execution_count": 5,
   "metadata": {},
   "outputs": [],
   "source": [
    "from collections import defaultdict\n",
    "\n",
    "word_counts = defaultdict(int) # int() produces 0\n",
    "for word in document:\n",
    "    word_counts[word] += 1"
   ]
  },
  {
   "source": [
    "* `defaultdict` can also be used with `list` or `dict`, or even your own function"
   ],
   "cell_type": "markdown",
   "metadata": {}
  },
  {
   "cell_type": "code",
   "execution_count": 6,
   "metadata": {},
   "outputs": [],
   "source": [
    "dd_list = defaultdict(list) # list() produces an empty list\n",
    "dd_list[2].append(1) # now dd_list contains {2: [1]}\n",
    "\n",
    "dd_dict = defaultdict(dict) # dict() produces an empty dict\n",
    "dd_dict[\"Joel\"][\"City\"] = \"Seattle\" # {\"Joel\": {\"City\": \"Seattle\"}}\n",
    "\n",
    "dd_pair = defaultdict(lambda: [0,0])\n",
    "dd_pair[2][1] = 1 # now dd_pair contains {2: [0, 1]}"
   ]
  },
  {
   "source": [
    "* useful when we're using dictionaries to \"collect\" results by some key AND don't want to have to check every time to see if the key exists yet"
   ],
   "cell_type": "markdown",
   "metadata": {}
  },
  {
   "source": [
    "## Counter\n",
    "* a `Counter` turns a sequence of values into a `defaultdict(int)`-like object mapping keys to counts"
   ],
   "cell_type": "markdown",
   "metadata": {}
  },
  {
   "cell_type": "code",
   "execution_count": 7,
   "metadata": {},
   "outputs": [
    {
     "output_type": "execute_result",
     "data": {
      "text/plain": [
       "Counter({0: 2, 1: 1, 2: 1})"
      ]
     },
     "metadata": {},
     "execution_count": 7
    }
   ],
   "source": [
    "from collections import Counter\n",
    "c = Counter([0, 1, 2, 0])\n",
    "c"
   ]
  },
  {
   "cell_type": "code",
   "execution_count": 8,
   "metadata": {},
   "outputs": [
    {
     "output_type": "execute_result",
     "data": {
      "text/plain": [
       "Counter({'I': 1, 'love': 1, 'machine': 1, 'learning': 1})"
      ]
     },
     "metadata": {},
     "execution_count": 8
    }
   ],
   "source": [
    "# now we have a simple way of solving `word_counts` problem \n",
    "document = [\"I\", \"love\", \"machine\", \"learning\"]\n",
    "word_counts = Counter(document)\n",
    "\n",
    "word_counts"
   ]
  },
  {
   "cell_type": "code",
   "execution_count": 9,
   "metadata": {},
   "outputs": [
    {
     "output_type": "stream",
     "name": "stdout",
     "text": [
      "I 1\nlove 1\nmachine 1\nlearning 1\n"
     ]
    }
   ],
   "source": [
    "# a `Counter` instance has a `most_common` method that is frequently useful\n",
    "\n",
    "# print the 10 most common words and their counts\n",
    "for word, count in word_counts.most_common(10):\n",
    "    print(word, count)"
   ]
  },
  {
   "source": [
    "## Sorting\n",
    "* every python list has a `sort` method that sorts it in place\n",
    "* if you don't want to change your list, you can use the `sorted` function, which returns a new list"
   ],
   "cell_type": "markdown",
   "metadata": {}
  },
  {
   "cell_type": "code",
   "execution_count": 6,
   "metadata": {},
   "outputs": [
    {
     "output_type": "stream",
     "name": "stdout",
     "text": [
      "x:  [4, 1, 2, 3]\ny:  [1, 2, 3, 4]\n"
     ]
    }
   ],
   "source": [
    "x = [4, 1, 2, 3]\n",
    "y = sorted(x)\n",
    "\n",
    "print(\"x: \", x)\n",
    "print(\"y: \", y)"
   ]
  },
  {
   "cell_type": "code",
   "execution_count": 5,
   "metadata": {},
   "outputs": [
    {
     "output_type": "stream",
     "name": "stdout",
     "text": [
      "x:  [1, 2, 3, 4]\n"
     ]
    }
   ],
   "source": [
    "x.sort()\n",
    "print(\"x: \", x)"
   ]
  },
  {
   "source": [
    "* by default, `sort` and `sorted` sort a list from smallest to largest\n",
    "* if you want elements sorted from largest to smallest, you can specify a `reverse=True` parameter\n",
    "* instead of comparing the elements themselves, you can compare the results of a function that you specify with `key`"
   ],
   "cell_type": "markdown",
   "metadata": {}
  },
  {
   "cell_type": "code",
   "execution_count": 7,
   "metadata": {},
   "outputs": [
    {
     "output_type": "stream",
     "name": "stdout",
     "text": [
      "x:  [-4, 3, -2, 1]\n"
     ]
    }
   ],
   "source": [
    "# sort the list by absolute value from largest to smallest\n",
    "x = sorted([-4, 1, -2, 3], key=abs, reverse=True)\n",
    "print(\"x: \", x)"
   ]
  },
  {
   "cell_type": "code",
   "execution_count": 11,
   "metadata": {},
   "outputs": [
    {
     "output_type": "stream",
     "name": "stdout",
     "text": [
      "wc:  [('love', 2), ('I', 1), ('machine', 1), ('learning', 1)]\n"
     ]
    }
   ],
   "source": [
    "# from a previous section\n",
    "from collections import Counter\n",
    "document = [\"I\", \"love\", \"love\", \"machine\", \"learning\"]\n",
    "word_counts = Counter(document)\n",
    "\n",
    "# sort the words and counts from highest count to lowest\n",
    "wc = sorted(\n",
    "    word_counts.items(),\n",
    "    key = lambda word_and_count: word_and_count[1],\n",
    "    reverse=True\n",
    ")\n",
    "print(\"wc: \", wc)"
   ]
  },
  {
   "source": [
    "## List Comprehensions\n",
    "* you'll want to transform a list into another list by choosing only certain elements, by transforming elements, or both\n",
    "* pythonic way to do so is through list comprehension"
   ],
   "cell_type": "markdown",
   "metadata": {}
  },
  {
   "cell_type": "code",
   "execution_count": 13,
   "metadata": {},
   "outputs": [
    {
     "output_type": "stream",
     "name": "stdout",
     "text": [
      "[0, 2, 4]\n"
     ]
    }
   ],
   "source": [
    "even_numbers = [x for x in range(5) if x % 2 == 0]\n",
    "print(even_numbers)"
   ]
  },
  {
   "cell_type": "code",
   "execution_count": 14,
   "metadata": {},
   "outputs": [
    {
     "output_type": "stream",
     "name": "stdout",
     "text": [
      "[0, 1, 4, 9, 16]\n"
     ]
    }
   ],
   "source": [
    "squares = [x * x for x in range(5)]\n",
    "print(squares)"
   ]
  },
  {
   "cell_type": "code",
   "execution_count": 16,
   "metadata": {},
   "outputs": [
    {
     "output_type": "stream",
     "name": "stdout",
     "text": [
      "[0, 4, 16]\n"
     ]
    }
   ],
   "source": [
    "even_squares = [x * x for x in even_numbers]\n",
    "print(even_squares)"
   ]
  },
  {
   "cell_type": "code",
   "execution_count": 17,
   "metadata": {},
   "outputs": [
    {
     "output_type": "stream",
     "name": "stdout",
     "text": [
      "{0: 0, 1: 1, 2: 4, 3: 9, 4: 16}\n"
     ]
    }
   ],
   "source": [
    "# you can also turn lists into dictionaries or sets\n",
    "square_dict = {x: x * x for x in range(5)}\n",
    "print(square_dict)"
   ]
  },
  {
   "cell_type": "code",
   "execution_count": 18,
   "metadata": {},
   "outputs": [
    {
     "output_type": "stream",
     "name": "stdout",
     "text": [
      "{1}\n"
     ]
    }
   ],
   "source": [
    "square_set = {x * x for x in [1, -1]}\n",
    "print(square_set)"
   ]
  },
  {
   "source": [
    "* if you don't need the value from the list, it's common to use an underscore as the variable"
   ],
   "cell_type": "markdown",
   "metadata": {}
  },
  {
   "cell_type": "code",
   "execution_count": 19,
   "metadata": {},
   "outputs": [
    {
     "output_type": "stream",
     "name": "stdout",
     "text": [
      "[0, 0, 0]\n"
     ]
    }
   ],
   "source": [
    "# has the same length as even numbers\n",
    "zeros = [0 for _ in even_numbers]\n",
    "print(zeros)"
   ]
  },
  {
   "source": [
    "* list comprehension can include multiple `for`'s"
   ],
   "cell_type": "markdown",
   "metadata": {}
  },
  {
   "cell_type": "code",
   "execution_count": 20,
   "metadata": {},
   "outputs": [
    {
     "output_type": "stream",
     "name": "stdout",
     "text": [
      "[(0, 0), (0, 1), (0, 2), (0, 3), (0, 4), (0, 5), (0, 6), (0, 7), (0, 8), (0, 9), (1, 0), (1, 1), (1, 2), (1, 3), (1, 4), (1, 5), (1, 6), (1, 7), (1, 8), (1, 9), (2, 0), (2, 1), (2, 2), (2, 3), (2, 4), (2, 5), (2, 6), (2, 7), (2, 8), (2, 9), (3, 0), (3, 1), (3, 2), (3, 3), (3, 4), (3, 5), (3, 6), (3, 7), (3, 8), (3, 9), (4, 0), (4, 1), (4, 2), (4, 3), (4, 4), (4, 5), (4, 6), (4, 7), (4, 8), (4, 9), (5, 0), (5, 1), (5, 2), (5, 3), (5, 4), (5, 5), (5, 6), (5, 7), (5, 8), (5, 9), (6, 0), (6, 1), (6, 2), (6, 3), (6, 4), (6, 5), (6, 6), (6, 7), (6, 8), (6, 9), (7, 0), (7, 1), (7, 2), (7, 3), (7, 4), (7, 5), (7, 6), (7, 7), (7, 8), (7, 9), (8, 0), (8, 1), (8, 2), (8, 3), (8, 4), (8, 5), (8, 6), (8, 7), (8, 8), (8, 9), (9, 0), (9, 1), (9, 2), (9, 3), (9, 4), (9, 5), (9, 6), (9, 7), (9, 8), (9, 9)]\n"
     ]
    }
   ],
   "source": [
    "# 100 pairs (0,0) (0,1) .. (9,8) (9,9)\n",
    "pairs = [\n",
    "    (x, y)\n",
    "    for x in range(10)\n",
    "    for y in range(10)\n",
    "]\n",
    "\n",
    "print(pairs)"
   ]
  },
  {
   "source": [
    "* later `for`'s can use the results of earlier ones"
   ],
   "cell_type": "markdown",
   "metadata": {}
  },
  {
   "cell_type": "code",
   "execution_count": 21,
   "metadata": {},
   "outputs": [
    {
     "output_type": "stream",
     "name": "stdout",
     "text": [
      "[(0, 1), (0, 2), (0, 3), (0, 4), (0, 5), (0, 6), (0, 7), (0, 8), (0, 9), (1, 2), (1, 3), (1, 4), (1, 5), (1, 6), (1, 7), (1, 8), (1, 9), (2, 3), (2, 4), (2, 5), (2, 6), (2, 7), (2, 8), (2, 9), (3, 4), (3, 5), (3, 6), (3, 7), (3, 8), (3, 9), (4, 5), (4, 6), (4, 7), (4, 8), (4, 9), (5, 6), (5, 7), (5, 8), (5, 9), (6, 7), (6, 8), (6, 9), (7, 8), (7, 9), (8, 9)]\n"
     ]
    }
   ],
   "source": [
    "# only pairs where x < y\n",
    "increasing_pairs = [\n",
    "    (x, y)\n",
    "    for x in range(10)\n",
    "    for y in range(x + 1, 10)\n",
    "]\n",
    "print(increasing_pairs)"
   ]
  },
  {
   "source": [
    "## Automated Testing and assert\n",
    "* one way to be confident that our code is correct is through automated tests by using `assert` statements, which causes your code to raise an `AssertionError` if your specified condition is not truthy"
   ],
   "cell_type": "markdown",
   "metadata": {}
  },
  {
   "cell_type": "code",
   "execution_count": 22,
   "metadata": {},
   "outputs": [],
   "source": [
    "assert 1 + 1 == 2 # no output"
   ]
  },
  {
   "cell_type": "code",
   "execution_count": 27,
   "metadata": {},
   "outputs": [
    {
     "output_type": "error",
     "ename": "AssertionError",
     "evalue": "",
     "traceback": [
      "\u001b[0;31m---------------------------------------------------------------------------\u001b[0m",
      "\u001b[0;31mAssertionError\u001b[0m                            Traceback (most recent call last)",
      "\u001b[0;32m<ipython-input-27-d7bd73c28806>\u001b[0m in \u001b[0;36m<module>\u001b[0;34m\u001b[0m\n\u001b[0;32m----> 1\u001b[0;31m \u001b[0;32massert\u001b[0m \u001b[0;36m1\u001b[0m \u001b[0;34m+\u001b[0m \u001b[0;36m2\u001b[0m \u001b[0;34m==\u001b[0m \u001b[0;36m2\u001b[0m\u001b[0;34m\u001b[0m\u001b[0;34m\u001b[0m\u001b[0m\n\u001b[0m",
      "\u001b[0;31mAssertionError\u001b[0m: "
     ]
    }
   ],
   "source": [
    "assert 1 + 2 == 2 # AssertionError but no message"
   ]
  },
  {
   "cell_type": "code",
   "execution_count": 28,
   "metadata": {},
   "outputs": [
    {
     "output_type": "error",
     "ename": "AssertionError",
     "evalue": "1 + 1 should equal 2 but didn't",
     "traceback": [
      "\u001b[0;31m---------------------------------------------------------------------------\u001b[0m",
      "\u001b[0;31mAssertionError\u001b[0m                            Traceback (most recent call last)",
      "\u001b[0;32m<ipython-input-28-b5a8706f0fe9>\u001b[0m in \u001b[0;36m<module>\u001b[0;34m\u001b[0m\n\u001b[0;32m----> 1\u001b[0;31m \u001b[0;32massert\u001b[0m \u001b[0;36m1\u001b[0m \u001b[0;34m+\u001b[0m \u001b[0;36m2\u001b[0m \u001b[0;34m==\u001b[0m \u001b[0;36m2\u001b[0m\u001b[0;34m,\u001b[0m \u001b[0;34m\"1 + 1 should equal 2 but didn't\"\u001b[0m\u001b[0;34m\u001b[0m\u001b[0;34m\u001b[0m\u001b[0m\n\u001b[0m",
      "\u001b[0;31mAssertionError\u001b[0m: 1 + 1 should equal 2 but didn't"
     ]
    }
   ],
   "source": [
    "assert 1 + 2 == 2, \"1 + 1 should equal 2 but didn't\" # Assertion error with a message"
   ]
  },
  {
   "source": [
    "* it's not very interesting to assert that `1 + 1 == 2`\n",
    "* what is more interesting is to assert that functions you write are doing what you expect them to "
   ],
   "cell_type": "markdown",
   "metadata": {}
  },
  {
   "cell_type": "code",
   "execution_count": 29,
   "metadata": {},
   "outputs": [],
   "source": [
    "def smallest_item(xs):\n",
    "    return min(xs)\n",
    "\n",
    "assert smallest_item([10, 20, 5,40]) == 5"
   ]
  },
  {
   "cell_type": "code",
   "execution_count": 30,
   "metadata": {},
   "outputs": [],
   "source": [
    "assert smallest_item([1, 0, -1, 2]) == -1"
   ]
  },
  {
   "source": [
    "* another less common use is to assert things about inputs to functions"
   ],
   "cell_type": "markdown",
   "metadata": {}
  },
  {
   "cell_type": "code",
   "execution_count": 31,
   "metadata": {},
   "outputs": [],
   "source": [
    "def smallest_item(xs):\n",
    "    assert xs, \"empty list has no smallest item\"\n",
    "    return min(xs)"
   ]
  },
  {
   "source": [
    "## Object-Oriented Programming\n",
    "* python allows you to define classes that encapsulate data and the functions that operate on them\n",
    "* we'll use them sometimes to make our code cleaner and simpler\n",
    "\n",
    "**Learn By Example**\n",
    "* let's construct a class representing a 'counting clicker' i.e used at the door to track how many people have shown up for the 'advanced topics in data science' meetup\n",
    "* it maintains a `count`, can be `clicked` to increment the count, allows you to `read_count`, and can be `reset` back to zero\n",
    "* to define a class, you use toe `class` keyword and a PascalCase name:"
   ],
   "cell_type": "markdown",
   "metadata": {}
  },
  {
   "cell_type": "code",
   "execution_count": 32,
   "metadata": {},
   "outputs": [],
   "source": [
    "class CountingClicker:\n",
    "    \"\"\" A class can/should have a docstring, just like a function \"\"\""
   ]
  },
  {
   "source": [
    "* a class contains zero or more member functions\n",
    "* by convention, each takes a first parameter, `self`, that refers to the particular class instance\n",
    "* normally, a class has a constructor named `__init__`\n",
    "    - takes whatever parameters you need to construct an instance of your class and does whatever setup you need"
   ],
   "cell_type": "markdown",
   "metadata": {}
  },
  {
   "cell_type": "code",
   "execution_count": 35,
   "metadata": {},
   "outputs": [],
   "source": [
    "class CountingClicker:\n",
    "    \"\"\" A class can/should have a docstring, just like a function \"\"\"\n",
    "\n",
    "    def __init__(self, count=0):\n",
    "        self.count = count"
   ]
  },
  {
   "source": [
    "* although the constructor has a funny name, we construct instances of the clicker using just the class name"
   ],
   "cell_type": "markdown",
   "metadata": {}
  },
  {
   "cell_type": "code",
   "execution_count": 36,
   "metadata": {},
   "outputs": [],
   "source": [
    "clicker1 = CountingClicker() # initialized to 0\n",
    "clicker2 = CountingClicker(100) # start with count=100\n",
    "clicker3 = CountingClicker(count=100) # more explicit way of doing the second clicker"
   ]
  },
  {
   "source": [
    "* notice that `__init__` method name starts and ends with double underscores\n",
    "* these \"magic\" methods are sometimes called \"dunder\" methods and represent \"special\" behaviors\n",
    "    - double UNDERscore\n",
    "* another such method is `__repr__` which produces the string representation of a class instance\n",
    "* then, finally, we need to implement the 'public API' of our class"
   ],
   "cell_type": "markdown",
   "metadata": {}
  },
  {
   "cell_type": "code",
   "execution_count": 37,
   "metadata": {},
   "outputs": [],
   "source": [
    "class CountingClicker:\n",
    "    \"\"\" A class can/should have a docstring, just like a function \"\"\"\n",
    "\n",
    "    def __init__(self, count=0):\n",
    "        self.count = count\n",
    "    \n",
    "    def __repr__(self):\n",
    "        return f\"CountingClicker(count={self.count})\"\n",
    "    \n",
    "    def click(self, num_times = 1):\n",
    "        \"\"\" Click the clicker some number of times. \"\"\"\n",
    "        self.count += num_times\n",
    "    \n",
    "    def read(self):\n",
    "        return self.count\n",
    "    \n",
    "    def reset(self):\n",
    "        self.count = 0"
   ]
  },
  {
   "source": [
    "* now defined, let's use `assert` to write some test cases for our clicker"
   ],
   "cell_type": "markdown",
   "metadata": {}
  },
  {
   "cell_type": "code",
   "execution_count": 38,
   "metadata": {},
   "outputs": [],
   "source": [
    "clicker = CountingClicker()\n",
    "assert clicker.read() == 0, \"clicker should start with count 0\""
   ]
  },
  {
   "cell_type": "code",
   "execution_count": 39,
   "metadata": {},
   "outputs": [],
   "source": [
    "clicker.click()\n",
    "clicker.click()\n",
    "assert clicker.read() == 2, \"after two clicks, clicker should have count 2\""
   ]
  },
  {
   "cell_type": "code",
   "execution_count": 40,
   "metadata": {},
   "outputs": [],
   "source": [
    "clicker.reset()\n",
    "assert clicker.read() == 0, \"after reset, clicker should be back to 0\""
   ]
  },
  {
   "source": [
    "* writing these types of tests helps us be confident that our code is working the way we designed it to AND it remains doing so whenever we make changes to it\n",
    "* we'll occasionally create subclasses that inherit some of their functionality from a parent class\n",
    "* Ex. we could create a non-reset-able clicker by using `CountingClicker` as the base class and overriding the `reset` method to do nothing"
   ],
   "cell_type": "markdown",
   "metadata": {}
  },
  {
   "cell_type": "code",
   "execution_count": 41,
   "metadata": {},
   "outputs": [],
   "source": [
    "# a subclass inherits all the behavior of its parent class\n",
    "class NoResetClicker(CountingClicker):\n",
    "    # this class has all the same methods as CountingClicker\n",
    "\n",
    "    # except that it has a reset method that does nothing\n",
    "    def reset(self):\n",
    "        pass"
   ]
  },
  {
   "cell_type": "code",
   "execution_count": 42,
   "metadata": {},
   "outputs": [],
   "source": [
    "clicker2 = NoResetClicker()\n",
    "assert clicker2.read() == 0"
   ]
  },
  {
   "cell_type": "code",
   "execution_count": 43,
   "metadata": {},
   "outputs": [],
   "source": [
    "clicker2.click()\n",
    "assert clicker2.read() == 1"
   ]
  },
  {
   "cell_type": "code",
   "execution_count": 44,
   "metadata": {},
   "outputs": [],
   "source": [
    "clicker2.reset()\n",
    "assert clicker2.read() == 1, \"reset shouldn't do anything\""
   ]
  },
  {
   "source": [
    "## Iterables and Generators\n",
    "* if you only want the elements one at a time, there's no good reason to keep them all around\n",
    "* if you only end up needing the first several elements, generating the entire billion is hugely wasteful\n",
    "* often, we only need to iterate over the collection using `for` or `in`\n",
    "    - in these cases, we can create generators\n",
    "    - generators can be iterated over just like lists but generate their values lazily on demand\n",
    "* one way to create generators is with functions and the `yield` operator"
   ],
   "cell_type": "markdown",
   "metadata": {}
  },
  {
   "cell_type": "code",
   "execution_count": 1,
   "metadata": {},
   "outputs": [
    {
     "output_type": "stream",
     "name": "stdout",
     "text": [
      "i:0\ni:1\ni:2\ni:3\ni:4\ni:5\ni:6\ni:7\ni:8\ni:9\n"
     ]
    }
   ],
   "source": [
    "def generate_range(n):\n",
    "    i = 0\n",
    "    while i < n:\n",
    "        yield i # every call to yield produces a value of a generator\n",
    "        i += 1\n",
    "\n",
    "# the following loop will consume the 'yielded' values one at a time until none are left\n",
    "for i in generate_range(10):\n",
    "    print(f\"i:{i}\")"
   ]
  },
  {
   "source": [
    "* actually, range is lazy so no need to really do this\n",
    "* with generators, you can even create an infinite sequence"
   ],
   "cell_type": "markdown",
   "metadata": {}
  },
  {
   "cell_type": "code",
   "execution_count": 2,
   "metadata": {},
   "outputs": [],
   "source": [
    "def natural_numbers():\n",
    "    \"\"\" returns 1,2,3,... \"\"\"\n",
    "    n = 1\n",
    "    while True:\n",
    "        yield n\n",
    "        n += 1"
   ]
  },
  {
   "source": [
    "* flip side of laziness: you can only iterate through a generator once\n",
    "* if you need to iterate through something multiple times, you'll need to either re-create the generator each time OR use a list\n",
    "* if generating a value is expensive, this might be a good reason to use a list instead\n",
    "* a second way to create generators is by using `for` comprehensions wrapped in parenthesis"
   ],
   "cell_type": "markdown",
   "metadata": {}
  },
  {
   "cell_type": "code",
   "execution_count": 4,
   "metadata": {},
   "outputs": [
    {
     "output_type": "execute_result",
     "data": {
      "text/plain": [
       "<generator object <genexpr> at 0x7fd40f6cf4d0>"
      ]
     },
     "metadata": {},
     "execution_count": 4
    }
   ],
   "source": [
    "evens_below_20 = (i for i in generate_range(20) if i % 2 == 0)\n",
    "evens_below_20"
   ]
  },
  {
   "source": [
    "* such a \"generator comprehension\" doesn't do any work until you iterate over it by using `for` or `next`\n",
    "* can use this to build an elaborate data-processing pipeline"
   ],
   "cell_type": "markdown",
   "metadata": {}
  },
  {
   "cell_type": "code",
   "execution_count": 5,
   "metadata": {},
   "outputs": [],
   "source": [
    "# none of these computations do anything until we iterate\n",
    "data = natural_numbers()\n",
    "evens = (x for x in data if x % 2 == 0)\n",
    "even_squares =(x ** 2 for x in evens)\n",
    "even_squares_ending_in_six = (x for x in even_squares if x % 10 == 6)\n",
    "# and so on"
   ]
  },
  {
   "source": [
    "* when iterating over a list or a generator, we'll want not just the values but the indices as well\n",
    "* python provides an `enumerate` function that turns values into pairs (`index`, `value`)"
   ],
   "cell_type": "markdown",
   "metadata": {}
  },
  {
   "cell_type": "code",
   "execution_count": 6,
   "metadata": {},
   "outputs": [
    {
     "output_type": "stream",
     "name": "stdout",
     "text": [
      "name 0 is Alice\nname 1 is Bob\nname 2 is Charlie\nname 3 is Debbie\n"
     ]
    }
   ],
   "source": [
    "names = ['Alice', 'Bob', 'Charlie', 'Debbie']\n",
    "\n",
    "# not pythonic\n",
    "for i in range(len(names)):\n",
    "    print(f\"name {i} is {names[i]}\")"
   ]
  },
  {
   "cell_type": "code",
   "execution_count": 7,
   "metadata": {},
   "outputs": [
    {
     "output_type": "stream",
     "name": "stdout",
     "text": [
      "name 0 is Alice\nname 1 is Bob\nname 2 is Charlie\nname 3 is Debbie\n"
     ]
    }
   ],
   "source": [
    "# also not pythonic\n",
    "i = 0\n",
    "for name in names:\n",
    "    print(f\"name {i} is {names[i]}\")\n",
    "    i += 1"
   ]
  },
  {
   "cell_type": "code",
   "execution_count": 8,
   "metadata": {},
   "outputs": [
    {
     "output_type": "stream",
     "name": "stdout",
     "text": [
      "name 0 is Alice\nname 1 is Bob\nname 2 is Charlie\nname 3 is Debbie\n"
     ]
    }
   ],
   "source": [
    "# pythonic\n",
    "for i, name in enumerate(names):\n",
    "    print(f\"name {i} is {name}\")"
   ]
  },
  {
   "source": [
    "## zip and Argument Unpacking\n",
    "* often we'll need to `zip` two or more iterables together\n",
    "* `zip` function transforms multiple iterables into a single iterable of tuples of corresponding function"
   ],
   "cell_type": "markdown",
   "metadata": {}
  },
  {
   "cell_type": "code",
   "execution_count": 9,
   "metadata": {},
   "outputs": [
    {
     "output_type": "execute_result",
     "data": {
      "text/plain": [
       "[('a', 1), ('b', 2), ('c', 3)]"
      ]
     },
     "metadata": {},
     "execution_count": 9
    }
   ],
   "source": [
    "list1 = ['a', 'b', 'c']\n",
    "list2 = [1, 2, 3]\n",
    "\n",
    "# zip is lazy so you have to do something like the following\n",
    "[pair for pair in zip(list1, list2)]"
   ]
  },
  {
   "source": [
    "* if lists are different lengths, `zip` stops as soon as the first list ends\n",
    "* you can also \"unzip\" a list using a strange trick"
   ],
   "cell_type": "markdown",
   "metadata": {}
  },
  {
   "cell_type": "code",
   "execution_count": 11,
   "metadata": {},
   "outputs": [
    {
     "output_type": "stream",
     "name": "stdout",
     "text": [
      "('a', 'b', 'c')\n(1, 2, 3)\n"
     ]
    }
   ],
   "source": [
    "pairs = [('a', 1), ('b', 2), ('c', 3)]\n",
    "letters, numbers = zip(*pairs)\n",
    "print(letters)\n",
    "print(numbers)"
   ]
  },
  {
   "source": [
    "* the asterick (*) performs argument unpacking, which uses the elements of `pairs` as individual arguments to `zip`"
   ],
   "cell_type": "markdown",
   "metadata": {}
  },
  {
   "cell_type": "code",
   "execution_count": 12,
   "metadata": {},
   "outputs": [
    {
     "output_type": "stream",
     "name": "stdout",
     "text": [
      "('a', 'b', 'c')\n(1, 2, 3)\n"
     ]
    }
   ],
   "source": [
    "# equivalent to the above\n",
    "letters, numbers = zip(('a', 1), ('b', 2), ('c', 3))\n",
    "print(letters)\n",
    "print(numbers)"
   ]
  },
  {
   "cell_type": "code",
   "execution_count": 13,
   "metadata": {},
   "outputs": [
    {
     "output_type": "execute_result",
     "data": {
      "text/plain": [
       "3"
      ]
     },
     "metadata": {},
     "execution_count": 13
    }
   ],
   "source": [
    "# use argument unpacking w/ any function\n",
    "def add(a, b): return a + b\n",
    "\n",
    "add(1, 2)"
   ]
  },
  {
   "cell_type": "code",
   "execution_count": 14,
   "metadata": {},
   "outputs": [
    {
     "output_type": "stream",
     "name": "stdout",
     "text": [
      "add expects two inputs\n"
     ]
    },
    {
     "output_type": "execute_result",
     "data": {
      "text/plain": [
       "3"
      ]
     },
     "metadata": {},
     "execution_count": 14
    }
   ],
   "source": [
    "try:\n",
    "    add([1, 2])\n",
    "except TypeError:\n",
    "    print(\"add expects two inputs\")\n",
    "\n",
    "add(*[1,2])"
   ]
  },
  {
   "source": [
    "## args and kwargs\n",
    "* scenario: we want to create a higher-order function which takes some function `f` and returns a new function\n",
    "    - new function: for any input returns twice the value of f"
   ],
   "cell_type": "markdown",
   "metadata": {}
  },
  {
   "cell_type": "code",
   "execution_count": 15,
   "metadata": {},
   "outputs": [],
   "source": [
    "def doubler(f):\n",
    "    # define a new function that keeps a reference to f\n",
    "    def g(x):\n",
    "        return 2 * f(x)\n",
    "    \n",
    "    # return that new function\n",
    "    return g"
   ]
  },
  {
   "cell_type": "code",
   "execution_count": 16,
   "metadata": {},
   "outputs": [],
   "source": [
    "# works in some cases\n",
    "def f1(x):\n",
    "    return x + 1\n",
    "\n",
    "g = doubler(f1)\n",
    "assert g(3) == 8, \"(3 + 1) * 2 should equal 8\"\n",
    "assert g(-1) == 0, \"(-1 + 1) * 2 should equal 0\""
   ]
  },
  {
   "cell_type": "code",
   "execution_count": 17,
   "metadata": {},
   "outputs": [
    {
     "output_type": "stream",
     "name": "stdout",
     "text": [
      "as defined, g only takes one argument\n"
     ]
    }
   ],
   "source": [
    "# doesn't work with functions that take more than a single argument\n",
    "def f2(x, y):\n",
    "    return x + y\n",
    "\n",
    "g = doubler(f2)\n",
    "try:\n",
    "    g(1,2)\n",
    "except TypeError:\n",
    "    print(\"as defined, g only takes one argument\")"
   ]
  },
  {
   "source": [
    "* we need a way to specify a function that takes arbitrary arguments\n",
    "* can do with argument unpacking and \"a bit of magic\""
   ],
   "cell_type": "markdown",
   "metadata": {}
  },
  {
   "cell_type": "code",
   "execution_count": 18,
   "metadata": {},
   "outputs": [
    {
     "output_type": "stream",
     "name": "stdout",
     "text": [
      "unnamed args:  (1, 2)\nkeyword args:  {'key': 'word', 'key2': 'word2'}\n"
     ]
    }
   ],
   "source": [
    "def magic(*args, **kwargs):\n",
    "    print(\"unnamed args: \", args)\n",
    "    print(\"keyword args: \", kwargs)\n",
    "\n",
    "magic(1, 2, key='word', key2='word2')"
   ]
  },
  {
   "source": [
    "* `args`: tuple of its unnamed arguemts\n",
    "* `kwargs`: `dict` of its named arguments\n",
    "* works other way as well: can use a `list` (or `tuple`) and `dict` to supply arguments to a function"
   ],
   "cell_type": "markdown",
   "metadata": {}
  },
  {
   "cell_type": "code",
   "execution_count": 19,
   "metadata": {},
   "outputs": [],
   "source": [
    "def doubler_correct(f):\n",
    "    \"\"\"works no matter what kind of inputs f expects\"\"\"\n",
    "    def g(*args, **kwargs):\n",
    "        \"\"\"whatever arguments g is supplied, pass them through to f\"\"\"\n",
    "        return 2 * f(*args, **kwargs)\n",
    "    return g\n",
    "\n",
    "g = doubler_correct(f2)\n",
    "assert g(1, 2) == 6, \"doubler should work now\""
   ]
  },
  {
   "source": [
    "* only use if no other options"
   ],
   "cell_type": "markdown",
   "metadata": {}
  },
  {
   "source": [
    "## Type Annotations\n",
    "* python is a dynamically-typed language i.e. doesn't care about the types of objects we use as long as we use them correctly"
   ],
   "cell_type": "markdown",
   "metadata": {}
  },
  {
   "cell_type": "code",
   "execution_count": 22,
   "metadata": {},
   "outputs": [
    {
     "output_type": "stream",
     "name": "stdout",
     "text": [
      "cannot add an int to a string\n"
     ]
    }
   ],
   "source": [
    "def add(a, b):\n",
    "    return a + b\n",
    "\n",
    "assert add(10, 5) == 15, \"+ is valid for numbers\"\n",
    "assert add([1,2], [3]) == [1,2,3], \"+ is valid for lists\"\n",
    "assert add(\"hi \", \"there\") == \"hi there\", \"+ is valid for strings\"\n",
    "\n",
    "try:\n",
    "    add(10, \"five\")\n",
    "except TypeError:\n",
    "    print(\"cannot add an int to a string\")"
   ]
  },
  {
   "source": [
    "* in statically-typed language, our functions and objects would have specified types"
   ],
   "cell_type": "markdown",
   "metadata": {}
  },
  {
   "cell_type": "code",
   "execution_count": 23,
   "metadata": {},
   "outputs": [
    {
     "output_type": "execute_result",
     "data": {
      "text/plain": [
       "'hi there'"
      ]
     },
     "metadata": {},
     "execution_count": 23
    }
   ],
   "source": [
    "def add(a: int, b: int) -> int:\n",
    "    return a + b\n",
    "\n",
    "add(10, 5) # want this to be OK\n",
    "add(\"hi \", \"there\") # don't want this to be OK"
   ]
  },
  {
   "source": [
    "* recent versions of python allow for type annotations\n",
    "* however, they don't actually do anything (can still add \"hi\" and \"there\" and no error will appear)\n",
    "\n",
    "_why should you use type annotations?_\n",
    "\n",
    "1. types are an important form of documentation"
   ],
   "cell_type": "markdown",
   "metadata": {}
  },
  {
   "cell_type": "code",
   "execution_count": 24,
   "metadata": {},
   "outputs": [
    {
     "output_type": "error",
     "ename": "NameError",
     "evalue": "name 'Vector' is not defined",
     "traceback": [
      "\u001b[0;31m---------------------------------------------------------------------------\u001b[0m",
      "\u001b[0;31mNameError\u001b[0m                                 Traceback (most recent call last)",
      "\u001b[0;32m<ipython-input-24-f2817a0d2737>\u001b[0m in \u001b[0;36m<module>\u001b[0;34m\u001b[0m\n\u001b[1;32m      4\u001b[0m \u001b[0;34m\u001b[0m\u001b[0m\n\u001b[1;32m      5\u001b[0m \u001b[0;31m# type annotation\u001b[0m\u001b[0;34m\u001b[0m\u001b[0;34m\u001b[0m\u001b[0;34m\u001b[0m\u001b[0m\n\u001b[0;32m----> 6\u001b[0;31m \u001b[0;32mdef\u001b[0m \u001b[0mdot_product\u001b[0m\u001b[0;34m(\u001b[0m\u001b[0mx\u001b[0m\u001b[0;34m:\u001b[0m \u001b[0mVector\u001b[0m\u001b[0;34m,\u001b[0m \u001b[0my\u001b[0m\u001b[0;34m:\u001b[0m \u001b[0mVector\u001b[0m\u001b[0;34m)\u001b[0m \u001b[0;34m->\u001b[0m \u001b[0mfloat\u001b[0m\u001b[0;34m:\u001b[0m\u001b[0;34m\u001b[0m\u001b[0;34m\u001b[0m\u001b[0m\n\u001b[0m\u001b[1;32m      7\u001b[0m     \u001b[0;32mreturn\u001b[0m \u001b[0;32mNone\u001b[0m\u001b[0;34m\u001b[0m\u001b[0;34m\u001b[0m\u001b[0m\n",
      "\u001b[0;31mNameError\u001b[0m: name 'Vector' is not defined"
     ]
    }
   ],
   "source": [
    "# no type annotation\n",
    "def dot_product(x, y):\n",
    "    return None\n",
    "\n",
    "# type annotation (haven't defined vector yet so will get error)\n",
    "def dot_product(x: Vector, y: Vector) -> float:\n",
    "    return None"
   ]
  },
  {
   "source": [
    "2. external tools such as `mypy` can\n",
    "    - read your code\n",
    "    - inspect type annotations\n",
    "    - let you know about type errors before you run your code\n",
    "* similar to `assert`, it's a good way to find mistakes in your code before you ever run it\n",
    "\n",
    "3. by being forced to think about the types in your code, you are forced to design cleaner functions and interfaces\n",
    "* highly likely that the function below is difficult to use but becomes more evident when writing out the type annotations"
   ],
   "cell_type": "markdown",
   "metadata": {}
  },
  {
   "cell_type": "code",
   "execution_count": 25,
   "metadata": {},
   "outputs": [],
   "source": [
    "from typing import Union\n",
    "\n",
    "def secretly_ugly_function(value, operation):\n",
    "    return None\n",
    "\n",
    "def ugly_function(\n",
    "    value: int,\n",
    "    operation: Union[str, int, float, bool]\n",
    ") -> int:\n",
    "    return None"
   ]
  },
  {
   "source": [
    "4. using types allows editor to help you with things like autocomplete and to get angry at type errors\n",
    "* since typing annotations takes minimal time and allow your editor to save you time, they can help you write code more quickly for either small or large projects"
   ],
   "cell_type": "markdown",
   "metadata": {}
  },
  {
   "source": [
    "## How to Write Type Annotations"
   ],
   "cell_type": "markdown",
   "metadata": {}
  },
  {
   "cell_type": "code",
   "execution_count": 26,
   "metadata": {},
   "outputs": [],
   "source": [
    "# annotating that the variable is a list is not specific enough\n",
    "def total(xs: list) -> float:\n",
    "    return sum(total)"
   ]
  },
  {
   "source": [
    "* the `typing` module provides a number of parameterized types"
   ],
   "cell_type": "markdown",
   "metadata": {}
  },
  {
   "cell_type": "code",
   "execution_count": 27,
   "metadata": {},
   "outputs": [],
   "source": [
    "from typing import List\n",
    "\n",
    "def total(xs: List[float]) -> float:\n",
    "    return sum(total)"
   ]
  },
  {
   "cell_type": "code",
   "execution_count": 28,
   "metadata": {},
   "outputs": [],
   "source": [
    "# this is how to type-annotate variables when you define them\n",
    "# but this is unnecessary because its obvious x is an int\n",
    "x: int = 5"
   ]
  },
  {
   "cell_type": "code",
   "execution_count": 29,
   "metadata": {},
   "outputs": [],
   "source": [
    "# sometimes it's not so obvious\n",
    "values = [] # type?\n",
    "best_so_far = None # type?"
   ]
  },
  {
   "cell_type": "code",
   "execution_count": 30,
   "metadata": {},
   "outputs": [],
   "source": [
    "# supply inline type hints\n",
    "from typing import Optional\n",
    "\n",
    "values: List[int] = []\n",
    "best_so_far: Optional[float] = None # allowed to be either a float or None"
   ]
  },
  {
   "cell_type": "code",
   "execution_count": 32,
   "metadata": {},
   "outputs": [],
   "source": [
    "# typing module contains many other types\n",
    "\n",
    "# type annotations is this snippet are all unnecessary\n",
    "from typing import Dict, Iterable, Tuple\n",
    "\n",
    "# keys are strings, values are ints\n",
    "counts: Dict[str, int] = {'data': 1, 'science': 2}\n",
    "\n",
    "# lists and generators are both iterable\n",
    "lazy=True # not in book\n",
    "if lazy:\n",
    "    evens: Iterable[int] = (x for x in range(10) if x % 2 == 0)\n",
    "else:\n",
    "    evens = [0, 2, 4, 6, 8]\n",
    "\n",
    "# tuples specify a type for each element\n",
    "triple: Tuple[int, float, int] = (10, 2.3, 5)"
   ]
  },
  {
   "cell_type": "code",
   "execution_count": 33,
   "metadata": {},
   "outputs": [],
   "source": [
    "# need a type to represent python's 'first class functions'\n",
    "from typing import Callable\n",
    "\n",
    "# type hint says that repeater is a function that takes two arguments:\n",
    "# a string an an int, and returns a string\n",
    "def twice(repeater: Callable[[str, int], str], s: str) -> str:\n",
    "    return repeater(s, 2)\n",
    "\n",
    "def comma_repeater(s: str, n: int) -> str:\n",
    "    n_copies = [s for _ in range(n)]\n",
    "    return ', '.join(n_copies)\n",
    "\n",
    "assert twice(comma_repeater, \"type hints\") == \"type hints, type hints\""
   ]
  },
  {
   "cell_type": "code",
   "execution_count": 34,
   "metadata": {},
   "outputs": [],
   "source": [
    "# type annotations are just python objects, so \n",
    "# we can assign them to variables to make them easier to reference\n",
    "\n",
    "Number = int\n",
    "Numbers = List[Number]\n",
    "\n",
    "def total(xs: Numbers) -> Number:\n",
    "    return sum(xs)"
   ]
  },
  {
   "cell_type": "code",
   "execution_count": null,
   "metadata": {},
   "outputs": [],
   "source": []
  }
 ]
}